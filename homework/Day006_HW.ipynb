{
 "cells": [
  {
   "cell_type": "markdown",
   "metadata": {},
   "source": [
    "# API 資料串接 - 以 知乎 API 實作範例\n",
    "\n",
    "\n",
    "\n",
    "* 了解知乎 API 使用方式與回傳內容\n",
    "* 撰寫程式存取 API 且添加標頭\n",
    "\n",
    "\n"
   ]
  },
  {
   "cell_type": "markdown",
   "metadata": {},
   "source": [
    "## 作業目標\n",
    "\n",
    "* 根據範例提供的 API ，完成以下問題：\n",
    "\n",
    "    1. 取出知乎問題發問時間\n",
    "    2. 取出第一筆與最後一筆回答的時間\n"
   ]
  },
  {
   "cell_type": "markdown",
   "metadata": {},
   "source": [
    "### 1. 取出知乎問題發問時間"
   ]
  },
  {
   "cell_type": "code",
   "execution_count": 22,
   "metadata": {},
   "outputs": [
    {
     "name": "stdout",
     "output_type": "stream",
     "text": [
      "2019-04-01 10:17:08\n",
      "2019-05-14 17:00:12\n",
      "2020-03-26 21:04:14\n",
      "2017-05-02 10:45:13\n",
      "2019-10-29 11:07:06\n"
     ]
    }
   ],
   "source": [
    "# 1. 取出知乎問題發問時間\n",
    "\n",
    "from datetime import datetime\n",
    "\n",
    "import requests\n",
    "\n",
    "url = 'https://www.zhihu.com/api/v4/questions/55493026/answers'\n",
    "\n",
    "headers = {'content-type': 'application/json', 'user-agent': 'Mozilla/5.0'}\n",
    "\n",
    "result = requests.get(url,headers = headers)\n",
    "\n",
    "result = result.json()\n",
    "\n",
    "for item in result['data']:\n",
    "    create_time = datetime.fromtimestamp(item['created_time'])\n",
    "    print(create_time)\n"
   ]
  },
  {
   "cell_type": "markdown",
   "metadata": {},
   "source": [
    "### 2. 取出第一筆與最後一筆回答的時間"
   ]
  },
  {
   "cell_type": "code",
   "execution_count": 47,
   "metadata": {},
   "outputs": [
    {
     "name": "stdout",
     "output_type": "stream",
     "text": [
      "the first time is 1557824412\n",
      "the last time is 1587220473\n",
      "the first time data is {'id': 683070334, 'type': 'answer', 'answer_type': 'normal', 'question': {'type': 'question', 'id': 55493026, 'title': '你们都是怎么学 Python 的？', 'question_type': 'normal', 'created': 1486390229, 'updated_time': 1582533957, 'url': 'https://www.zhihu.com/api/v4/questions/55493026', 'relationship': {}}, 'author': {'id': '36f69162230003d316d0b8a6d8da20ba', 'url_token': 'liang-zi-wei-48', 'name': '量子位', 'avatar_url': 'https://pic3.zhimg.com/v2-ca6e7ffc10a0d10edbae635cee82d007_l.jpg', 'avatar_url_template': 'https://pic2.zhimg.com/v2-ca6e7ffc10a0d10edbae635cee82d007.jpg', 'is_org': True, 'type': 'people', 'url': 'https://www.zhihu.com/api/v4/people/36f69162230003d316d0b8a6d8da20ba', 'user_type': 'organization', 'headline': '有趣的AI&amp;前沿科技→_→ 公众号：QbitAI', 'badge': [{'type': 'identity', 'description': '已认证的官方帐号', 'topics': []}, {'type': 'best_answerer', 'description': '优秀回答者', 'topics': []}], 'badge_v2': {'title': '科研、人工智能话题下的优秀回答者', 'merged_badges': [{'type': 'best', 'detail_type': 'best', 'title': '优秀认证', 'description': '科研、人工智能话题下的优秀回答者', 'url': 'https://www.zhihu.com/topic/20054793', 'sources': [{'id': '19556895', 'token': '19556895', 'type': 'topic', 'url': 'https://www.zhihu.com/topic/19556895', 'name': '科研', 'avatar_path': 'v2-f94b3093434c09b4501b056d142025e0', 'avatar_url': 'https://pic3.zhimg.com/v2-f94b3093434c09b4501b056d142025e0_hd.jpg', 'description': ''}, {'id': '19551275', 'token': '19551275', 'type': 'topic', 'url': 'https://www.zhihu.com/topic/19551275', 'name': '人工智能', 'avatar_path': 'v2-c41d10d22173d515740c43c70f885705', 'avatar_url': 'https://pic1.zhimg.com/v2-c41d10d22173d515740c43c70f885705_hd.jpg', 'description': ''}]}, {'type': 'identity', 'detail_type': 'identity', 'title': '认证', 'description': '已认证的官方帐号', 'url': 'https://www.zhihu.com/account/verification/intro', 'sources': []}], 'detail_badges': [{'type': 'best', 'detail_type': 'best_answerer', 'title': '优秀回答者', 'description': '科研、人工智能话题下的优秀回答者', 'url': 'https://www.zhihu.com/topic/20054793', 'sources': [{'id': '19556895', 'token': '19556895', 'type': 'topic', 'url': 'https://www.zhihu.com/topic/19556895', 'name': '科研', 'avatar_path': 'v2-f94b3093434c09b4501b056d142025e0', 'avatar_url': 'https://pic3.zhimg.com/v2-f94b3093434c09b4501b056d142025e0_hd.jpg', 'description': ''}, {'id': '19551275', 'token': '19551275', 'type': 'topic', 'url': 'https://www.zhihu.com/topic/19551275', 'name': '人工智能', 'avatar_path': 'v2-c41d10d22173d515740c43c70f885705', 'avatar_url': 'https://pic1.zhimg.com/v2-c41d10d22173d515740c43c70f885705_hd.jpg', 'description': ''}]}, {'type': 'identity', 'detail_type': 'identity_org', 'title': '已认证的官方帐号', 'description': '已认证的官方帐号', 'url': 'https://www.zhihu.com/account/verification/intro', 'sources': []}]}, 'gender': -1, 'is_advertiser': False, 'is_privacy': False}, 'url': 'https://www.zhihu.com/api/v4/answers/683070334', 'is_collapsed': False, 'created_time': 1557824412, 'updated_time': 1557824412, 'extras': '', 'is_copyable': True, 'relationship': {'upvoted_followees': []}, 'ad_answer': None}\n",
      "---------------------------------------------------------\n",
      "the last time data  is {'id': 873825546, 'type': 'answer', 'answer_type': 'normal', 'question': {'type': 'question', 'id': 55493026, 'title': '你们都是怎么学 Python 的？', 'question_type': 'normal', 'created': 1486390229, 'updated_time': 1582533957, 'url': 'https://www.zhihu.com/api/v4/questions/55493026', 'relationship': {}}, 'author': {'id': '4d1c2c77bc7431c2a6006d154198e8b9', 'url_token': 'ji-de-yao-xing-fu', 'name': '痴海', 'avatar_url': 'https://pic1.zhimg.com/v2-e8b4f9dff1e3c3170185584c925d388a_l.jpg', 'avatar_url_template': 'https://pic4.zhimg.com/v2-e8b4f9dff1e3c3170185584c925d388a.jpg', 'is_org': False, 'type': 'people', 'url': 'https://www.zhihu.com/api/v4/people/4d1c2c77bc7431c2a6006d154198e8b9', 'user_type': 'people', 'headline': '公众号痴海：每周一篇干货文', 'badge': [], 'badge_v2': {'title': '', 'merged_badges': [], 'detail_badges': []}, 'gender': 1, 'is_advertiser': False, 'is_privacy': False}, 'url': 'https://www.zhihu.com/api/v4/answers/873825546', 'is_collapsed': False, 'created_time': 1572318426, 'updated_time': 1587220473, 'extras': '', 'is_copyable': False, 'relationship': {'upvoted_followees': []}, 'ad_answer': None}\n"
     ]
    }
   ],
   "source": [
    "# 2. 取出第一筆與最後一筆回答的時間\n",
    "\n",
    "import requests\n",
    "\n",
    "url = 'https://www.zhihu.com/api/v4/questions/55493026/answers'\n",
    "\n",
    "headers = {'content-type': 'application/json', 'user-agent': 'Mozilla/5.0'}\n",
    "\n",
    "result = requests.get(url,headers = headers)\n",
    "\n",
    "result = result.json()\n",
    "\n",
    "create_time_list = list()\n",
    "\n",
    "for item in result['data']:\n",
    "    create_time = datetime.fromtimestamp(item['updated_time'])\n",
    "    create_time_list.append(item['updated_time'])\n",
    "   \n",
    "create_time_list.sort()\n",
    "\n",
    "print('the first time is {0}'.format(create_time_list[0]))\n",
    "print('the last time is {0}'.format(create_time_list[-1]))\n",
    "            \n",
    "for item in result['data']:\n",
    "    if item['updated_time'] == create_time_list[0]:\n",
    "        print('the first time data is {0}'.format(item))\n",
    "    if item['updated_time'] == create_time_list[-1]:\n",
    "        print('---------------------------------------------------------')\n",
    "        print('the last time data  is {0}'.format(item))"
   ]
  },
  {
   "cell_type": "code",
   "execution_count": null,
   "metadata": {},
   "outputs": [],
   "source": []
  },
  {
   "cell_type": "code",
   "execution_count": null,
   "metadata": {},
   "outputs": [],
   "source": []
  },
  {
   "cell_type": "code",
   "execution_count": null,
   "metadata": {},
   "outputs": [],
   "source": []
  }
 ],
 "metadata": {
  "kernelspec": {
   "display_name": "Python 3",
   "language": "python",
   "name": "python3"
  },
  "language_info": {
   "codemirror_mode": {
    "name": "ipython",
    "version": 3
   },
   "file_extension": ".py",
   "mimetype": "text/x-python",
   "name": "python",
   "nbconvert_exporter": "python",
   "pygments_lexer": "ipython3",
   "version": "3.8.3"
  }
 },
 "nbformat": 4,
 "nbformat_minor": 2
}
