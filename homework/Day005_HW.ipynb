{
 "cells": [
  {
   "cell_type": "markdown",
   "metadata": {},
   "source": [
    "# API 資料串接 - 以 Dcard API 實作範例\n",
    "\n",
    "* 了解 Dcard API 使用方式與回傳內容\n",
    "* 撰寫程式存取 API 且解析 JSON 格式資料\n"
   ]
  },
  {
   "cell_type": "markdown",
   "metadata": {},
   "source": [
    "## 作業目標\n",
    "\n",
    "* 請利用 API: https://www.dcard.tw/_api/forums/pet/posts?popular=true 回答下列問題：\n",
    "\n",
    "1. 這個 API 一次會回傳幾筆資料？每一筆資料包含哪些欄位？\n",
    "2. 取出每一筆資料的「標題」、「貼文時間」、「留言人數」、「按讚人數」\n",
    "3. 計算熱門/非熱門文章的「平均留言人數」與「平均按讚人數」"
   ]
  },
  {
   "cell_type": "code",
   "execution_count": 9,
   "metadata": {},
   "outputs": [
    {
     "name": "stdout",
     "output_type": "stream",
     "text": [
      "30\n",
      "---------\n",
      "id\n",
      "title\n",
      "excerpt\n",
      "anonymousSchool\n",
      "anonymousDepartment\n",
      "pinned\n",
      "forumId\n",
      "replyId\n",
      "createdAt\n",
      "updatedAt\n",
      "commentCount\n",
      "likeCount\n",
      "withNickname\n",
      "tags\n",
      "topics\n",
      "meta\n",
      "forumName\n",
      "forumAlias\n",
      "nsfw\n",
      "gender\n",
      "school\n",
      "department\n",
      "replyTitle\n",
      "mediaMeta\n",
      "reactions\n",
      "hidden\n",
      "customStyle\n",
      "isSuspiciousAccount\n",
      "layout\n",
      "withImages\n",
      "withVideos\n",
      "media\n",
      "reportReasonText\n",
      "postAvatar\n"
     ]
    }
   ],
   "source": [
    "# 1. 這個 API 一次會回傳幾筆資料？每一筆資料包含哪些欄位？\n",
    "\n",
    "import requests\n",
    "import json\n",
    "\n",
    "headers = {'content-type': 'application/json'}\n",
    "\n",
    "url = 'https://www.dcard.tw/'\n",
    "\n",
    "path = '_api/forums/pet/posts'\n",
    "\n",
    "url = url+path\n",
    "\n",
    "payload = {'popular':'true'}\n",
    "\n",
    "result = requests.get(url,params=payload)\n",
    "\n",
    "result = result.json()\n",
    "\n",
    "print(len(result))\n",
    "print(\"---------\")\n",
    "for x in result[0]:\n",
    "    print(x)"
   ]
  },
  {
   "cell_type": "code",
   "execution_count": 11,
   "metadata": {},
   "outputs": [
    {
     "name": "stdout",
     "output_type": "stream",
     "text": [
      "標題 : 給貓舔辣椒到底要多無腦？, 貼文時間 : 2020-06-25T05:29:27.055Z, 留言人數 : 327, 按讚人數 : 2594  \n",
      "標題 : 命案現場 （史詩級可愛, 貼文時間 : 2020-06-25T14:20:17.253Z, 留言人數 : 25, 按讚人數 : 1716  \n",
      "標題 : 幼犬免費領養, 貼文時間 : 2020-06-25T14:52:19.787Z, 留言人數 : 27, 按讚人數 : 993  \n",
      "標題 : 我的寵物鴨🦆跟白柴柴🐶, 貼文時間 : 2020-06-25T16:10:34.647Z, 留言人數 : 54, 按讚人數 : 772  \n",
      "標題 : 可以去代言的貓, 貼文時間 : 2020-06-25T06:01:02.862Z, 留言人數 : 27, 按讚人數 : 634  \n",
      "標題 : 當你的狗忘記自己長大了, 貼文時間 : 2020-06-26T06:12:53.838Z, 留言人數 : 29, 按讚人數 : 524  \n",
      "標題 : 同學 我的才是塞奶怪😂😂, 貼文時間 : 2020-06-25T13:29:10.544Z, 留言人數 : 15, 按讚人數 : 124  \n",
      "標題 : 到底是貓咪還是兔子？😅, 貼文時間 : 2020-06-25T09:17:29.880Z, 留言人數 : 2, 按讚人數 : 73  \n",
      "標題 : 你掉的是金雞還是銀雞, 貼文時間 : 2020-06-25T08:38:36.458Z, 留言人數 : 9, 按讚人數 : 70  \n",
      "標題 : 10歲的寶貝第一次拍寫真集, 貼文時間 : 2020-06-25T13:56:00.097Z, 留言人數 : 9, 按讚人數 : 23  \n",
      "標題 : 我家的貓咪生寶寶了！🥺, 貼文時間 : 2020-06-25T20:54:04.503Z, 留言人數 : 1, 按讚人數 : 21  \n",
      "標題 : 高雄某動物醫院看診經驗, 貼文時間 : 2020-06-25T15:17:58.187Z, 留言人數 : 2, 按讚人數 : 19  \n",
      "標題 : 新家(•̀ᴗ•́)و, 貼文時間 : 2020-06-25T04:51:58.921Z, 留言人數 : 2, 按讚人數 : 15  \n",
      "標題 : 已送出謝謝各位！, 貼文時間 : 2020-06-26T05:40:19.826Z, 留言人數 : 2, 按讚人數 : 13  \n",
      "標題 : 偶然拍到的兔寶照, 貼文時間 : 2020-06-26T09:10:09.483Z, 留言人數 : 4, 按讚人數 : 12  \n",
      "標題 : 你們沒看過的貓, 貼文時間 : 2020-06-25T16:55:34.634Z, 留言人數 : 0, 按讚人數 : 10  \n",
      "標題 : 如何防止我家的貓開門, 貼文時間 : 2020-06-25T13:10:31.304Z, 留言人數 : 4, 按讚人數 : 10  \n",
      "標題 : 我養了一隻會飛的狗？, 貼文時間 : 2020-06-25T18:10:19.941Z, 留言人數 : 3, 按讚人數 : 9  \n",
      "標題 : 貓咪真的雞掰又可愛, 貼文時間 : 2020-06-26T06:58:38.904Z, 留言人數 : 4, 按讚人數 : 8  \n",
      "標題 : #問 請問有人用過Tomcat寵物飲水機嗎, 貼文時間 : 2020-06-25T06:24:05.058Z, 留言人數 : 3, 按讚人數 : 8  \n",
      "標題 : 我的網霉狗🐶, 貼文時間 : 2020-06-25T14:24:57.363Z, 留言人數 : 2, 按讚人數 : 7  \n",
      "標題 : 工讀生出來, 貼文時間 : 2020-06-25T12:59:17.141Z, 留言人數 : 0, 按讚人數 : 7  \n",
      "標題 : #貓奴必備💯pidan 逗貓棒套件組🐱主子玩的開心😄奴才就樂得笑開懷, 貼文時間 : 2020-06-26T07:01:22.003Z, 留言人數 : 3, 按讚人數 : 6  \n",
      "標題 : #貓到底是熱翻還是病了, 貼文時間 : 2020-06-25T16:48:20.130Z, 留言人數 : 10, 按讚人數 : 6  \n",
      "標題 : 我家孩子終於脫完殼了😘, 貼文時間 : 2020-06-25T16:23:31.778Z, 留言人數 : 1, 按讚人數 : 6  \n",
      "標題 : ㄎㄟˋ修, 貼文時間 : 2020-06-25T12:56:56.067Z, 留言人數 : 0, 按讚人數 : 6  \n",
      "標題 : 新手養貓請教🥺🙇🏻‍♀️🙏拜託各位貓奴了⋯, 貼文時間 : 2020-06-25T10:41:11.093Z, 留言人數 : 6, 按讚人數 : 6  \n",
      "標題 : 🆘親戚虐狗🆘, 貼文時間 : 2020-06-25T05:55:32.513Z, 留言人數 : 8, 按讚人數 : 6  \n",
      "標題 : 有一隻超級愛撒嬌的兔兔🐰, 貼文時間 : 2020-06-25T13:47:55.492Z, 留言人數 : 0, 按讚人數 : 5  \n",
      "標題 : 咪嚕的日常, 貼文時間 : 2020-06-25T12:59:46.774Z, 留言人數 : 0, 按讚人數 : 5  \n"
     ]
    }
   ],
   "source": [
    "# 2. 取出每一筆資料的「標題」、「貼文時間」、「留言人數」、「按讚人數」\n",
    "\n",
    "import requests\n",
    "import json\n",
    "\n",
    "headers = {'content-type': 'application/json'}\n",
    "\n",
    "url = 'https://www.dcard.tw/'\n",
    "\n",
    "path = '_api/forums/pet/posts'\n",
    "\n",
    "url = url+path\n",
    "\n",
    "payload = {'popular':'true'}\n",
    "\n",
    "result = requests.get(url,params=payload)\n",
    "\n",
    "result = result.json()\n",
    "\n",
    "for x in result:\n",
    "    print('標題 : {0}, 貼文時間 : {1}, 留言人數 : {2}, 按讚人數 : {3}  '.format(x['title'],x['createdAt'],x['commentCount'],x['likeCount']))"
   ]
  },
  {
   "cell_type": "code",
   "execution_count": 20,
   "metadata": {},
   "outputs": [
    {
     "name": "stdout",
     "output_type": "stream",
     "text": [
      "commentCount average 19.966666666666665\n",
      "lkeCount average 272.56666666666666\n"
     ]
    }
   ],
   "source": [
    "# 3. 計算熱門/非熱門文章的「平均留言人數」與「平均按讚人數」\n",
    "\n",
    "import requests\n",
    "import json\n",
    "\n",
    "headers = {'content-type': 'application/json'}\n",
    "\n",
    "url = 'https://www.dcard.tw/'\n",
    "\n",
    "path = '_api/forums/pet/posts'\n",
    "\n",
    "url = url+path\n",
    "\n",
    "payload = {'popular':'true'}\n",
    "\n",
    "result = requests.get(url,params=payload)\n",
    "\n",
    "result = result.json()\n",
    "\n",
    "commentCount = list()\n",
    "likeCount = list()\n",
    "\n",
    "for x in result:\n",
    "    if x['commentCount']:\n",
    "        commentCount.append(x['commentCount'])\n",
    "    else:\n",
    "        commentCount.append(0)\n",
    "        \n",
    "    if x['likeCount']:\n",
    "        likeCount.append(x['likeCount'])\n",
    "    else:\n",
    "        likeCount.append(0)\n",
    "            \n",
    "commentCountAverage = sum(commentCount) / len(commentCount)\n",
    "\n",
    "likeCountAverage = sum(likeCount) / len(likeCount)  \n",
    "\n",
    "print('commentCount average {0}'.format(commentCountAverage))\n",
    "print('lkeCount average {0}'.format(likeCountAverage))"
   ]
  },
  {
   "cell_type": "code",
   "execution_count": null,
   "metadata": {},
   "outputs": [],
   "source": []
  },
  {
   "cell_type": "code",
   "execution_count": null,
   "metadata": {},
   "outputs": [],
   "source": []
  }
 ],
 "metadata": {
  "kernelspec": {
   "display_name": "Python 3",
   "language": "python",
   "name": "python3"
  },
  "language_info": {
   "codemirror_mode": {
    "name": "ipython",
    "version": 3
   },
   "file_extension": ".py",
   "mimetype": "text/x-python",
   "name": "python",
   "nbconvert_exporter": "python",
   "pygments_lexer": "ipython3",
   "version": "3.8.3"
  }
 },
 "nbformat": 4,
 "nbformat_minor": 2
}
